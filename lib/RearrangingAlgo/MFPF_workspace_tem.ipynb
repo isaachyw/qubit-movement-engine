{
 "cells": [
  {
   "cell_type": "code",
   "execution_count": 6,
   "metadata": {},
   "outputs": [
    {
     "name": "stdout",
     "output_type": "stream",
     "text": [
      "Chunck size: 2\n",
      "[[[[0, 0], [1, 1], [2, 2]], [[3, 3], [4, 4], [2, 2]]], [[[6, 6], [4, 4], [8, 8]], [[5, 5], [9, 9]]], [[[6, 6], [7, 7], [8, 8]]]]\n"
     ]
    }
   ],
   "source": [
    "import numpy as np\n",
    "import math\n",
    "from multiprocessing import Process, Manager\n",
    "\n",
    "def add_meow(path):\n",
    "    return path.append(\"meow\")\n",
    "\n",
    "def split_chunk(path, num_agents):\n",
    "    chunck_size = math.ceil(len(path)/num_agents)\n",
    "    print(f'Chunck size: {chunck_size}')\n",
    "    for i in range(0, num_agents):    \n",
    "        yield path[i*chunck_size:(i+1)*chunck_size]\n",
    "        \n",
    "path = [[[0, 0], [1, 1], [2, 2]], [[3, 3], [4, 4], [2, 2]], [[6, 6], [4, 4], [8, 8]], [[5, 5], [9, 9]], [[6, 6], [7, 7], [8, 8]]]\n",
    "num_agents = 3\n",
    "path_agents = list(split_chunk(path, num_agents))\n",
    "print(path_agents)"
   ]
  },
  {
   "cell_type": "code",
   "execution_count": 7,
   "metadata": {},
   "outputs": [
    {
     "data": {
      "text/plain": [
       "[[[3, 3], [4, 4], [2, 2]],\n",
       " [[6, 6], [4, 4], [8, 8]],\n",
       " [[5, 5], [9, 9]],\n",
       " [[6, 6], [7, 7], [8, 8]]]"
      ]
     },
     "execution_count": 7,
     "metadata": {},
     "output_type": "execute_result"
    }
   ],
   "source": [
    "path[1:]"
   ]
  },
  {
   "cell_type": "code",
   "execution_count": 53,
   "metadata": {},
   "outputs": [
    {
     "name": "stdout",
     "output_type": "stream",
     "text": [
      "5\n",
      "3\n"
     ]
    }
   ],
   "source": [
    "print(len(path))\n",
    "print(len(path_agents))"
   ]
  },
  {
   "cell_type": "code",
   "execution_count": 54,
   "metadata": {},
   "outputs": [
    {
     "name": "stdout",
     "output_type": "stream",
     "text": [
      "[[[0, 0], [1, 1], [2, 2]], [[3, 3], [4, 4], [2, 2]]]\n",
      "[[[6, 6], [4, 4], [8, 8]], [[5, 5], [9, 9]]]\n",
      "[[[6, 6], [7, 7], [8, 8]]]\n"
     ]
    }
   ],
   "source": [
    "for i in path_agents:\n",
    "    print(i)"
   ]
  },
  {
   "cell_type": "code",
   "execution_count": 4,
   "metadata": {},
   "outputs": [],
   "source": [
    "def reorder(path_set):\n",
    "    grab_time = 2\n",
    "    drop_time = 2\n",
    "    move_time = 1\n",
    "    path = []\n",
    "    ## Initial time starts from 0\n",
    "    time_total = 0\n",
    "    for moves in path_set:\n",
    "        for s, site in enumerate(moves):\n",
    "            move_length = len(moves)\n",
    "            ## grab\n",
    "            if s == 0:\n",
    "                time_total += grab_time\n",
    "                path.append([site, time_total, 'g'])\n",
    "            ## drop\n",
    "            elif s == move_length - 1:\n",
    "                time_total += drop_time\n",
    "                path.append([site, time_total, 'd'])\n",
    "            else:\n",
    "                time_total += move_time\n",
    "                path.append([site, time_total, 'm'])\n",
    "\n",
    "    return path\n",
    "\n",
    "path_total = list(map(reorder, path_agents))\n"
   ]
  },
  {
   "cell_type": "code",
   "execution_count": 5,
   "metadata": {},
   "outputs": [
    {
     "name": "stdout",
     "output_type": "stream",
     "text": [
      "Agent 0: [[[0, 0], 2, 'g'], [[1, 1], 3, 'm'], [[2, 2], 5, 'd'], [[5, 5], 7, 'g'], [[9, 9], 9, 'd']]\n",
      "Agent 1: [[[3, 3], 2, 'g'], [[4, 4], 3, 'm'], [[2, 2], 5, 'd'], [[6, 6], 7, 'g'], [[7, 7], 8, 'm'], [[8, 8], 10, 'd']]\n",
      "Agent 2: [[[6, 6], 2, 'g'], [[4, 4], 3, 'm'], [[8, 8], 5, 'd'], [[9, 9], 7, 'g'], [[5, 5], 9, 'd']]\n"
     ]
    }
   ],
   "source": [
    "for p, path in enumerate(path_total):\n",
    "    print(f'Agent {p}: {path}')\n"
   ]
  },
  {
   "cell_type": "code",
   "execution_count": 6,
   "metadata": {},
   "outputs": [
    {
     "name": "stdout",
     "output_type": "stream",
     "text": [
      "agent 0: [[[0, 0], 2, 'g'], [[1, 1], 3, 'm'], [[2, 2], 5, 'd'], [[5, 5], 7, 'g'], [[9, 9], 9, 'd']]\n",
      "\n",
      "agent 1: [[[3, 3], 2, 'g'], [[4, 4], 3, 'm'], [[2, 2], 5, 'd'], [[6, 6], 7, 'g'], [[7, 7], 8, 'm'], [[8, 8], 10, 'd']]\n",
      "\n",
      "agent 2: [[[6, 6], 2, 'g'], [[4, 4], 3, 'm'], [[8, 8], 5, 'd'], [[9, 9], 7, 'g'], [[5, 5], 9, 'd']]\n",
      "\n",
      "\n",
      "\n",
      "agent 0: [[[0, 0], 2, 'g'], [[1, 1], 3, 'm'], [[2, 2], 5, 'd'], [[5, 5], 7, 'g'], [[9, 9], 9, 'd']]\n",
      "\n",
      "agent 1: [[[3, 3], 2, 'g'], [[4, 4], 3, 'm'], [[2, 2], 5, 'd'], [[2, 2], 5.5, 'w'], [[6, 6], 7.5, 'g'], [[7, 7], 8.5, 'm'], [[8, 8], 10.5, 'd']]\n",
      "\n",
      "agent 2: [[[6, 6], 2, 'g'], [[4, 4], 3, 'm'], [[4, 4], 3.5, 'w'], [[8, 8], 5.5, 'd'], [[9, 9], 7.5, 'g'], [[5, 5], 9.5, 'd']]\n",
      "\n"
     ]
    }
   ],
   "source": [
    "wait_time = 0.5\n",
    "agent_path = path_total\n",
    "\n",
    "for a, ap in enumerate(agent_path):\n",
    "        print(f'agent {a}: {ap}\\n')\n",
    "print('\\n')   \n",
    "\n",
    "agen_num = len(agent_path)\n",
    "for n in range(agen_num - 1):\n",
    "    for main_site in agent_path[n]:\n",
    "        #print(f'{main_site}')\n",
    "        ## Can be parallelize for each (path_total[n:])\n",
    "        for m in range(n + 1, agen_num):\n",
    "            for s, site in enumerate(agent_path[m]):\n",
    "                #print(f'site:{site}')\n",
    "                if main_site[:2] == site[:2]:\n",
    "                    agent_path[m].insert(s + 1, [site[0], site[1] + wait_time,'w'])\n",
    "                    ## Add wait time to all the following moves\n",
    "                    for i in range(s+2, len(agent_path[n+1])):\n",
    "                        agent_path[m][i][1] += wait_time\n",
    "\n",
    "for a, ap in enumerate(agent_path):\n",
    "        print(f'agent {a}: {ap}\\n')"
   ]
  },
  {
   "attachments": {},
   "cell_type": "markdown",
   "metadata": {},
   "source": [
    "Multi-processing, keep developing after single loop version complete."
   ]
  },
  {
   "cell_type": "code",
   "execution_count": null,
   "metadata": {},
   "outputs": [],
   "source": [
    "def compare(agent_path, n, main_site):\n",
    "        wait_time = 0.5\n",
    "        for s, site in enumerate(agent_path[n+1]):\n",
    "            if main_site[:2] == site[:2]:\n",
    "                agent_path[n+1].insert(s + 1, [site[0], site[1] + wait_time,'w'])\n",
    "                ## Add wait time to all the following moves\n",
    "                for i in range(s+2, len(agent_path[n+1])):\n",
    "                    agent_path[n+1][i][1] += wait_time\n",
    "\n",
    "with Manager() as manager:\n",
    "    agent_path = manager.list(path_total)  # <-- can be shared between processes.\n",
    "    \n",
    "    for a, ap in enumerate(agent_path):\n",
    "        print(f'agent {a}: {ap}')\n",
    "\n",
    "    agen_num = len(agent_path)\n",
    "    for n in range(agen_num - 1):\n",
    "        for main_site in agent_path[n]:\n",
    "            ## Can be parallelize for each (path_total[n:])\n",
    "            processes = []\n",
    "            for i in range(n, agen_num - 1):\n",
    "                p = Process(target=compare, args=(agent_path, n, main_site))  # Passing the list\n",
    "                p.start()\n",
    "                processes.append(p)\n",
    "\n",
    "            for p in processes:\n",
    "                p.join()"
   ]
  },
  {
   "cell_type": "code",
   "execution_count": 24,
   "metadata": {},
   "outputs": [
    {
     "ename": "TypeError",
     "evalue": "list indices must be integers or slices, not tuple",
     "output_type": "error",
     "traceback": [
      "\u001b[0;31m---------------------------------------------------------------------------\u001b[0m",
      "\u001b[0;31mTypeError\u001b[0m                                 Traceback (most recent call last)",
      "\u001b[1;32m/Users/lufterliu/Studio_Lufter/Atom_Array_Rearrangement/lib/RearrangingAlgo/MFPF_workspace_tem.ipynb Cell 9\u001b[0m in \u001b[0;36m<cell line: 9>\u001b[0;34m()\u001b[0m\n\u001b[1;32m      <a href='vscode-notebook-cell:/Users/lufterliu/Studio_Lufter/Atom_Array_Rearrangement/lib/RearrangingAlgo/MFPF_workspace_tem.ipynb#X12sZmlsZQ%3D%3D?line=0'>1</a>\u001b[0m a \u001b[39m=\u001b[39m [[\u001b[39m80.\u001b[39m, \u001b[39m76.\u001b[39m],\n\u001b[1;32m      <a href='vscode-notebook-cell:/Users/lufterliu/Studio_Lufter/Atom_Array_Rearrangement/lib/RearrangingAlgo/MFPF_workspace_tem.ipynb#X12sZmlsZQ%3D%3D?line=1'>2</a>\u001b[0m  [\u001b[39m78.\u001b[39m, \u001b[39m78.\u001b[39m],\n\u001b[1;32m      <a href='vscode-notebook-cell:/Users/lufterliu/Studio_Lufter/Atom_Array_Rearrangement/lib/RearrangingAlgo/MFPF_workspace_tem.ipynb#X12sZmlsZQ%3D%3D?line=2'>3</a>\u001b[0m  [\u001b[39m78.\u001b[39m, \u001b[39m80.\u001b[39m],\n\u001b[0;32m   (...)\u001b[0m\n\u001b[1;32m      <a href='vscode-notebook-cell:/Users/lufterliu/Studio_Lufter/Atom_Array_Rearrangement/lib/RearrangingAlgo/MFPF_workspace_tem.ipynb#X12sZmlsZQ%3D%3D?line=6'>7</a>\u001b[0m  [\u001b[39m80.\u001b[39m, \u001b[39m80.\u001b[39m],\n\u001b[1;32m      <a href='vscode-notebook-cell:/Users/lufterliu/Studio_Lufter/Atom_Array_Rearrangement/lib/RearrangingAlgo/MFPF_workspace_tem.ipynb#X12sZmlsZQ%3D%3D?line=7'>8</a>\u001b[0m  [\u001b[39m82.\u001b[39m, \u001b[39m78.\u001b[39m]]\n\u001b[0;32m----> <a href='vscode-notebook-cell:/Users/lufterliu/Studio_Lufter/Atom_Array_Rearrangement/lib/RearrangingAlgo/MFPF_workspace_tem.ipynb#X12sZmlsZQ%3D%3D?line=8'>9</a>\u001b[0m \u001b[39mprint\u001b[39m(a[:, \u001b[39m0\u001b[39;49m])\n",
      "\u001b[0;31mTypeError\u001b[0m: list indices must be integers or slices, not tuple"
     ]
    }
   ],
   "source": [
    "a = [[80., 76.],\n",
    " [78., 78.],\n",
    " [78., 80.],\n",
    " [76., 76.],\n",
    " [82., 82.],\n",
    " [82., 76.],\n",
    " [80., 80.],\n",
    " [82., 78.]]\n",
    "print(a[:, 0])"
   ]
  },
  {
   "cell_type": "code",
   "execution_count": 4,
   "metadata": {},
   "outputs": [
    {
     "name": "stdout",
     "output_type": "stream",
     "text": [
      "[76.]\n"
     ]
    }
   ],
   "source": [
    "move = [[76.0, 77.2]]\n",
    "print(np.asarray(move)[:, 0])"
   ]
  },
  {
   "cell_type": "code",
   "execution_count": 8,
   "metadata": {},
   "outputs": [
    {
     "data": {
      "text/plain": [
       "[<matplotlib.lines.Line2D at 0x108f40490>]"
      ]
     },
     "execution_count": 8,
     "metadata": {},
     "output_type": "execute_result"
    },
    {
     "data": {
      "image/png": "[encoded data removed]",
      "text/plain": [
       "<Figure size 432x288 with 1 Axes>"
      ]
     },
     "metadata": {
      "needs_background": "light"
     },
     "output_type": "display_data"
    }
   ],
   "source": [
    "import matplotlib.pyplot as plt\n",
    "plt.plot(np.asarray(move)[:, 0], np.asarray(move)[:, 1], color='black', linewidth=0.5, alpha=0.5)"
   ]
  },
  {
   "cell_type": "code",
   "execution_count": 5,
   "metadata": {},
   "outputs": [
    {
     "name": "stdout",
     "output_type": "stream",
     "text": [
      "[(0, 0), (1, 1), (2, 2), (3, 3)]\n"
     ]
    }
   ],
   "source": [
    "a = [(0, 0), (1, 1)]\n",
    "b = [(2, 2), (3, 3)]\n",
    "print(a+b)"
   ]
  },
  {
   "cell_type": "code",
   "execution_count": 19,
   "metadata": {},
   "outputs": [
    {
     "name": "stdout",
     "output_type": "stream",
     "text": [
      "False\n"
     ]
    }
   ],
   "source": [
    "a = np.asarray([[78, 78], [78, 80], [80, 78], [80, 80]])\n",
    "b = np.asarray([76, 78])\n",
    "\n",
    "if b.tolist() in a.tolist():\n",
    "    print(f'True')\n",
    "else:\n",
    "    print(f'False')"
   ]
  },
  {
   "cell_type": "code",
   "execution_count": null,
   "metadata": {},
   "outputs": [],
   "source": []
  }
 ],
 "metadata": {
  "kernelspec": {
   "display_name": "Python 3",
   "language": "python",
   "name": "python3"
  },
  "language_info": {
   "codemirror_mode": {
    "name": "ipython",
    "version": 3
   },
   "file_extension": ".py",
   "mimetype": "text/x-python",
   "name": "python",
   "nbconvert_exporter": "python",
   "pygments_lexer": "ipython3",
   "version": "3.9.16"
  },
  "orig_nbformat": 4,
  "vscode": {
   "interpreter": {
    "hash": "a665b5d41d17b532ea9890333293a1b812fa0b73c9c25c950b3cedf1bebd0438"
   }
  }
 },
 "nbformat": 4,
 "nbformat_minor": 2
}
